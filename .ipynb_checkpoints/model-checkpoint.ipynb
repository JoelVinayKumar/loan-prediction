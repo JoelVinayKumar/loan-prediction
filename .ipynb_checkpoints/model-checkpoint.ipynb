{
 "cells": [
  {
   "cell_type": "code",
   "execution_count": 1,
   "metadata": {},
   "outputs": [],
   "source": [
    "import pandas as pd\n",
    "import seaborn as sns\n",
    "import matplotlib.pyplot as plt\n",
    "import numpy as np\n",
    "from sklearn.model_selection import train_test_split\n",
    "from sklearn.tree import DecisionTreeClassifier\n",
    "from sklearn import tree\n",
    "from sklearn.metrics import confusion_matrix \n",
    "from sklearn.metrics import accuracy_score \n",
    "from sklearn.metrics import classification_report "
   ]
  },
  {
   "cell_type": "code",
   "execution_count": 4,
   "metadata": {},
   "outputs": [
    {
     "data": {
      "text/html": [
       "<div>\n",
       "<style scoped>\n",
       "    .dataframe tbody tr th:only-of-type {\n",
       "        vertical-align: middle;\n",
       "    }\n",
       "\n",
       "    .dataframe tbody tr th {\n",
       "        vertical-align: top;\n",
       "    }\n",
       "\n",
       "    .dataframe thead th {\n",
       "        text-align: right;\n",
       "    }\n",
       "</style>\n",
       "<table border=\"1\" class=\"dataframe\">\n",
       "  <thead>\n",
       "    <tr style=\"text-align: right;\">\n",
       "      <th></th>\n",
       "      <th>Unnamed: 0</th>\n",
       "      <th>Loan Status</th>\n",
       "      <th>Current Loan Amount</th>\n",
       "      <th>Term</th>\n",
       "      <th>Credit Score</th>\n",
       "      <th>Annual Income</th>\n",
       "      <th>Home Ownership</th>\n",
       "      <th>Purpose</th>\n",
       "      <th>Monthly Debt</th>\n",
       "      <th>Years of Credit History</th>\n",
       "      <th>Months since last delinquent</th>\n",
       "      <th>Number of Open Accounts</th>\n",
       "      <th>Number of Credit Problems</th>\n",
       "      <th>Current Credit Balance</th>\n",
       "      <th>Maximum Open Credit</th>\n",
       "      <th>Bankruptcies</th>\n",
       "      <th>Tax Liens</th>\n",
       "    </tr>\n",
       "  </thead>\n",
       "  <tbody>\n",
       "    <tr>\n",
       "      <th>0</th>\n",
       "      <td>12022</td>\n",
       "      <td>1</td>\n",
       "      <td>789096</td>\n",
       "      <td>1</td>\n",
       "      <td>710</td>\n",
       "      <td>3407460</td>\n",
       "      <td>2</td>\n",
       "      <td>3</td>\n",
       "      <td>13601.34</td>\n",
       "      <td>9.5</td>\n",
       "      <td>0</td>\n",
       "      <td>5</td>\n",
       "      <td>0</td>\n",
       "      <td>183749</td>\n",
       "      <td>401456</td>\n",
       "      <td>0</td>\n",
       "      <td>0</td>\n",
       "    </tr>\n",
       "  </tbody>\n",
       "</table>\n",
       "</div>"
      ],
      "text/plain": [
       "   Unnamed: 0  Loan Status  Current Loan Amount  Term  Credit Score  \\\n",
       "0       12022            1               789096     1           710   \n",
       "\n",
       "   Annual Income  Home Ownership  Purpose  Monthly Debt  \\\n",
       "0        3407460               2        3      13601.34   \n",
       "\n",
       "   Years of Credit History  Months since last delinquent  \\\n",
       "0                      9.5                             0   \n",
       "\n",
       "   Number of Open Accounts  Number of Credit Problems  Current Credit Balance  \\\n",
       "0                        5                          0                  183749   \n",
       "\n",
       "   Maximum Open Credit  Bankruptcies  Tax Liens  \n",
       "0               401456             0          0  "
      ]
     },
     "execution_count": 4,
     "metadata": {},
     "output_type": "execute_result"
    }
   ],
   "source": [
    "data = pd.read_csv(\"processed_data1.csv\")\n",
    "data.head(1)"
   ]
  },
  {
   "cell_type": "code",
   "execution_count": 5,
   "metadata": {},
   "outputs": [
    {
     "name": "stdout",
     "output_type": "stream",
     "text": [
      "<class 'pandas.core.frame.DataFrame'>\n",
      "RangeIndex: 34961 entries, 0 to 34960\n",
      "Data columns (total 17 columns):\n",
      "Unnamed: 0                      34961 non-null int64\n",
      "Loan Status                     34961 non-null int64\n",
      "Current Loan Amount             34961 non-null int64\n",
      "Term                            34961 non-null int64\n",
      "Credit Score                    34961 non-null int64\n",
      "Annual Income                   34961 non-null int64\n",
      "Home Ownership                  34961 non-null int64\n",
      "Purpose                         34961 non-null int64\n",
      "Monthly Debt                    34961 non-null float64\n",
      "Years of Credit History         34961 non-null float64\n",
      "Months since last delinquent    34961 non-null int64\n",
      "Number of Open Accounts         34961 non-null int64\n",
      "Number of Credit Problems       34961 non-null int64\n",
      "Current Credit Balance          34961 non-null int64\n",
      "Maximum Open Credit             34961 non-null int64\n",
      "Bankruptcies                    34961 non-null int64\n",
      "Tax Liens                       34961 non-null int64\n",
      "dtypes: float64(2), int64(15)\n",
      "memory usage: 4.5 MB\n"
     ]
    }
   ],
   "source": [
    "data.info()"
   ]
  },
  {
   "cell_type": "code",
   "execution_count": null,
   "metadata": {},
   "outputs": [],
   "source": []
  },
  {
   "cell_type": "code",
   "execution_count": 6,
   "metadata": {},
   "outputs": [
    {
     "data": {
      "text/plain": [
       "Unnamed: 0                      0\n",
       "Loan Status                     0\n",
       "Current Loan Amount             0\n",
       "Term                            0\n",
       "Credit Score                    0\n",
       "Annual Income                   0\n",
       "Home Ownership                  0\n",
       "Purpose                         0\n",
       "Monthly Debt                    0\n",
       "Years of Credit History         0\n",
       "Months since last delinquent    0\n",
       "Number of Open Accounts         0\n",
       "Number of Credit Problems       0\n",
       "Current Credit Balance          0\n",
       "Maximum Open Credit             0\n",
       "Bankruptcies                    0\n",
       "Tax Liens                       0\n",
       "dtype: int64"
      ]
     },
     "execution_count": 6,
     "metadata": {},
     "output_type": "execute_result"
    }
   ],
   "source": [
    "data.isnull().sum()"
   ]
  },
  {
   "cell_type": "code",
   "execution_count": 7,
   "metadata": {},
   "outputs": [],
   "source": [
    "data.dropna(inplace=True)"
   ]
  },
  {
   "cell_type": "code",
   "execution_count": 8,
   "metadata": {},
   "outputs": [
    {
     "data": {
      "text/plain": [
       "Unnamed: 0                      False\n",
       "Loan Status                     False\n",
       "Current Loan Amount             False\n",
       "Term                            False\n",
       "Credit Score                    False\n",
       "Annual Income                   False\n",
       "Home Ownership                  False\n",
       "Purpose                         False\n",
       "Monthly Debt                    False\n",
       "Years of Credit History         False\n",
       "Months since last delinquent    False\n",
       "Number of Open Accounts         False\n",
       "Number of Credit Problems       False\n",
       "Current Credit Balance          False\n",
       "Maximum Open Credit             False\n",
       "Bankruptcies                    False\n",
       "Tax Liens                       False\n",
       "dtype: bool"
      ]
     },
     "execution_count": 8,
     "metadata": {},
     "output_type": "execute_result"
    }
   ],
   "source": [
    "data.isnull().any()"
   ]
  },
  {
   "cell_type": "code",
   "execution_count": 9,
   "metadata": {},
   "outputs": [
    {
     "data": {
      "text/html": [
       "<div>\n",
       "<style scoped>\n",
       "    .dataframe tbody tr th:only-of-type {\n",
       "        vertical-align: middle;\n",
       "    }\n",
       "\n",
       "    .dataframe tbody tr th {\n",
       "        vertical-align: top;\n",
       "    }\n",
       "\n",
       "    .dataframe thead th {\n",
       "        text-align: right;\n",
       "    }\n",
       "</style>\n",
       "<table border=\"1\" class=\"dataframe\">\n",
       "  <thead>\n",
       "    <tr style=\"text-align: right;\">\n",
       "      <th></th>\n",
       "      <th>Unnamed: 0</th>\n",
       "      <th>Loan Status</th>\n",
       "      <th>Current Loan Amount</th>\n",
       "      <th>Term</th>\n",
       "      <th>Credit Score</th>\n",
       "      <th>Annual Income</th>\n",
       "      <th>Home Ownership</th>\n",
       "      <th>Purpose</th>\n",
       "      <th>Monthly Debt</th>\n",
       "      <th>Years of Credit History</th>\n",
       "      <th>Months since last delinquent</th>\n",
       "      <th>Number of Open Accounts</th>\n",
       "      <th>Number of Credit Problems</th>\n",
       "      <th>Current Credit Balance</th>\n",
       "      <th>Maximum Open Credit</th>\n",
       "      <th>Bankruptcies</th>\n",
       "      <th>Tax Liens</th>\n",
       "    </tr>\n",
       "  </thead>\n",
       "  <tbody>\n",
       "    <tr>\n",
       "      <th>0</th>\n",
       "      <td>12022</td>\n",
       "      <td>1</td>\n",
       "      <td>789096</td>\n",
       "      <td>1</td>\n",
       "      <td>710</td>\n",
       "      <td>3407460</td>\n",
       "      <td>2</td>\n",
       "      <td>3</td>\n",
       "      <td>13601.34</td>\n",
       "      <td>9.5</td>\n",
       "      <td>0</td>\n",
       "      <td>5</td>\n",
       "      <td>0</td>\n",
       "      <td>183749</td>\n",
       "      <td>401456</td>\n",
       "      <td>0</td>\n",
       "      <td>0</td>\n",
       "    </tr>\n",
       "    <tr>\n",
       "      <th>1</th>\n",
       "      <td>66926</td>\n",
       "      <td>1</td>\n",
       "      <td>789096</td>\n",
       "      <td>1</td>\n",
       "      <td>662</td>\n",
       "      <td>2112629</td>\n",
       "      <td>0</td>\n",
       "      <td>1</td>\n",
       "      <td>39541.28</td>\n",
       "      <td>17.5</td>\n",
       "      <td>12</td>\n",
       "      <td>16</td>\n",
       "      <td>0</td>\n",
       "      <td>563844</td>\n",
       "      <td>766282</td>\n",
       "      <td>0</td>\n",
       "      <td>0</td>\n",
       "    </tr>\n",
       "    <tr>\n",
       "      <th>2</th>\n",
       "      <td>76954</td>\n",
       "      <td>1</td>\n",
       "      <td>789096</td>\n",
       "      <td>1</td>\n",
       "      <td>695</td>\n",
       "      <td>3863080</td>\n",
       "      <td>0</td>\n",
       "      <td>3</td>\n",
       "      <td>42493.88</td>\n",
       "      <td>19.7</td>\n",
       "      <td>3</td>\n",
       "      <td>13</td>\n",
       "      <td>0</td>\n",
       "      <td>536959</td>\n",
       "      <td>712184</td>\n",
       "      <td>0</td>\n",
       "      <td>0</td>\n",
       "    </tr>\n",
       "    <tr>\n",
       "      <th>3</th>\n",
       "      <td>43498</td>\n",
       "      <td>1</td>\n",
       "      <td>789030</td>\n",
       "      <td>1</td>\n",
       "      <td>719</td>\n",
       "      <td>2375247</td>\n",
       "      <td>0</td>\n",
       "      <td>1</td>\n",
       "      <td>54630.89</td>\n",
       "      <td>16.8</td>\n",
       "      <td>0</td>\n",
       "      <td>11</td>\n",
       "      <td>0</td>\n",
       "      <td>569677</td>\n",
       "      <td>1208108</td>\n",
       "      <td>0</td>\n",
       "      <td>0</td>\n",
       "    </tr>\n",
       "    <tr>\n",
       "      <th>4</th>\n",
       "      <td>4279</td>\n",
       "      <td>1</td>\n",
       "      <td>788942</td>\n",
       "      <td>1</td>\n",
       "      <td>664</td>\n",
       "      <td>3309458</td>\n",
       "      <td>2</td>\n",
       "      <td>3</td>\n",
       "      <td>28406.33</td>\n",
       "      <td>12.6</td>\n",
       "      <td>18</td>\n",
       "      <td>6</td>\n",
       "      <td>0</td>\n",
       "      <td>633308</td>\n",
       "      <td>1126422</td>\n",
       "      <td>0</td>\n",
       "      <td>0</td>\n",
       "    </tr>\n",
       "  </tbody>\n",
       "</table>\n",
       "</div>"
      ],
      "text/plain": [
       "   Unnamed: 0  Loan Status  Current Loan Amount  Term  Credit Score  \\\n",
       "0       12022            1               789096     1           710   \n",
       "1       66926            1               789096     1           662   \n",
       "2       76954            1               789096     1           695   \n",
       "3       43498            1               789030     1           719   \n",
       "4        4279            1               788942     1           664   \n",
       "\n",
       "   Annual Income  Home Ownership  Purpose  Monthly Debt  \\\n",
       "0        3407460               2        3      13601.34   \n",
       "1        2112629               0        1      39541.28   \n",
       "2        3863080               0        3      42493.88   \n",
       "3        2375247               0        1      54630.89   \n",
       "4        3309458               2        3      28406.33   \n",
       "\n",
       "   Years of Credit History  Months since last delinquent  \\\n",
       "0                      9.5                             0   \n",
       "1                     17.5                            12   \n",
       "2                     19.7                             3   \n",
       "3                     16.8                             0   \n",
       "4                     12.6                            18   \n",
       "\n",
       "   Number of Open Accounts  Number of Credit Problems  Current Credit Balance  \\\n",
       "0                        5                          0                  183749   \n",
       "1                       16                          0                  563844   \n",
       "2                       13                          0                  536959   \n",
       "3                       11                          0                  569677   \n",
       "4                        6                          0                  633308   \n",
       "\n",
       "   Maximum Open Credit  Bankruptcies  Tax Liens  \n",
       "0               401456             0          0  \n",
       "1               766282             0          0  \n",
       "2               712184             0          0  \n",
       "3              1208108             0          0  \n",
       "4              1126422             0          0  "
      ]
     },
     "execution_count": 9,
     "metadata": {},
     "output_type": "execute_result"
    }
   ],
   "source": [
    "data.head(5)"
   ]
  },
  {
   "cell_type": "code",
   "execution_count": 12,
   "metadata": {},
   "outputs": [
    {
     "data": {
      "text/plain": [
       "Index(['Unnamed: 0', 'Loan Status', 'Current Loan Amount', 'Term',\n",
       "       'Credit Score', 'Annual Income', 'Home Ownership', 'Purpose',\n",
       "       'Monthly Debt', 'Years of Credit History',\n",
       "       'Months since last delinquent', 'Number of Open Accounts',\n",
       "       'Number of Credit Problems', 'Current Credit Balance',\n",
       "       'Maximum Open Credit', 'Bankruptcies', 'Tax Liens'],\n",
       "      dtype='object')"
      ]
     },
     "execution_count": 12,
     "metadata": {},
     "output_type": "execute_result"
    }
   ],
   "source": [
    "data.columns"
   ]
  },
  {
   "cell_type": "code",
   "execution_count": 13,
   "metadata": {},
   "outputs": [],
   "source": [
    "# data.drop[['Unnamed:0'],axis=1,inplace=True]\n",
    "data.drop(['Unnamed: 0'],axis=1,inplace = True)"
   ]
  },
  {
   "cell_type": "code",
   "execution_count": 14,
   "metadata": {},
   "outputs": [
    {
     "data": {
      "text/plain": [
       "pandas.core.frame.DataFrame"
      ]
     },
     "execution_count": 14,
     "metadata": {},
     "output_type": "execute_result"
    }
   ],
   "source": [
    "type(data)"
   ]
  },
  {
   "cell_type": "code",
   "execution_count": 15,
   "metadata": {},
   "outputs": [],
   "source": [
    "X = data.iloc[:,1:16]\n",
    "Y = data.iloc[:, 0]"
   ]
  },
  {
   "cell_type": "code",
   "execution_count": 16,
   "metadata": {},
   "outputs": [
    {
     "name": "stdout",
     "output_type": "stream",
     "text": [
      "<class 'pandas.core.frame.DataFrame'>\n",
      "Int64Index: 34961 entries, 0 to 34960\n",
      "Data columns (total 15 columns):\n",
      "Current Loan Amount             34961 non-null int64\n",
      "Term                            34961 non-null int64\n",
      "Credit Score                    34961 non-null int64\n",
      "Annual Income                   34961 non-null int64\n",
      "Home Ownership                  34961 non-null int64\n",
      "Purpose                         34961 non-null int64\n",
      "Monthly Debt                    34961 non-null float64\n",
      "Years of Credit History         34961 non-null float64\n",
      "Months since last delinquent    34961 non-null int64\n",
      "Number of Open Accounts         34961 non-null int64\n",
      "Number of Credit Problems       34961 non-null int64\n",
      "Current Credit Balance          34961 non-null int64\n",
      "Maximum Open Credit             34961 non-null int64\n",
      "Bankruptcies                    34961 non-null int64\n",
      "Tax Liens                       34961 non-null int64\n",
      "dtypes: float64(2), int64(13)\n",
      "memory usage: 4.3 MB\n"
     ]
    }
   ],
   "source": [
    "X.info()"
   ]
  },
  {
   "cell_type": "code",
   "execution_count": 17,
   "metadata": {},
   "outputs": [
    {
     "data": {
      "text/html": [
       "<div>\n",
       "<style scoped>\n",
       "    .dataframe tbody tr th:only-of-type {\n",
       "        vertical-align: middle;\n",
       "    }\n",
       "\n",
       "    .dataframe tbody tr th {\n",
       "        vertical-align: top;\n",
       "    }\n",
       "\n",
       "    .dataframe thead th {\n",
       "        text-align: right;\n",
       "    }\n",
       "</style>\n",
       "<table border=\"1\" class=\"dataframe\">\n",
       "  <thead>\n",
       "    <tr style=\"text-align: right;\">\n",
       "      <th></th>\n",
       "      <th>Current Loan Amount</th>\n",
       "      <th>Term</th>\n",
       "      <th>Credit Score</th>\n",
       "      <th>Annual Income</th>\n",
       "      <th>Home Ownership</th>\n",
       "      <th>Purpose</th>\n",
       "      <th>Monthly Debt</th>\n",
       "      <th>Years of Credit History</th>\n",
       "      <th>Months since last delinquent</th>\n",
       "      <th>Number of Open Accounts</th>\n",
       "      <th>Number of Credit Problems</th>\n",
       "      <th>Current Credit Balance</th>\n",
       "      <th>Maximum Open Credit</th>\n",
       "      <th>Bankruptcies</th>\n",
       "      <th>Tax Liens</th>\n",
       "    </tr>\n",
       "  </thead>\n",
       "  <tbody>\n",
       "    <tr>\n",
       "      <th>0</th>\n",
       "      <td>789096</td>\n",
       "      <td>1</td>\n",
       "      <td>710</td>\n",
       "      <td>3407460</td>\n",
       "      <td>2</td>\n",
       "      <td>3</td>\n",
       "      <td>13601.34</td>\n",
       "      <td>9.5</td>\n",
       "      <td>0</td>\n",
       "      <td>5</td>\n",
       "      <td>0</td>\n",
       "      <td>183749</td>\n",
       "      <td>401456</td>\n",
       "      <td>0</td>\n",
       "      <td>0</td>\n",
       "    </tr>\n",
       "    <tr>\n",
       "      <th>1</th>\n",
       "      <td>789096</td>\n",
       "      <td>1</td>\n",
       "      <td>662</td>\n",
       "      <td>2112629</td>\n",
       "      <td>0</td>\n",
       "      <td>1</td>\n",
       "      <td>39541.28</td>\n",
       "      <td>17.5</td>\n",
       "      <td>12</td>\n",
       "      <td>16</td>\n",
       "      <td>0</td>\n",
       "      <td>563844</td>\n",
       "      <td>766282</td>\n",
       "      <td>0</td>\n",
       "      <td>0</td>\n",
       "    </tr>\n",
       "  </tbody>\n",
       "</table>\n",
       "</div>"
      ],
      "text/plain": [
       "   Current Loan Amount  Term  Credit Score  Annual Income  Home Ownership  \\\n",
       "0               789096     1           710        3407460               2   \n",
       "1               789096     1           662        2112629               0   \n",
       "\n",
       "   Purpose  Monthly Debt  Years of Credit History  \\\n",
       "0        3      13601.34                      9.5   \n",
       "1        1      39541.28                     17.5   \n",
       "\n",
       "   Months since last delinquent  Number of Open Accounts  \\\n",
       "0                             0                        5   \n",
       "1                            12                       16   \n",
       "\n",
       "   Number of Credit Problems  Current Credit Balance  Maximum Open Credit  \\\n",
       "0                          0                  183749               401456   \n",
       "1                          0                  563844               766282   \n",
       "\n",
       "   Bankruptcies  Tax Liens  \n",
       "0             0          0  \n",
       "1             0          0  "
      ]
     },
     "execution_count": 17,
     "metadata": {},
     "output_type": "execute_result"
    }
   ],
   "source": [
    "X.head(2)"
   ]
  },
  {
   "cell_type": "code",
   "execution_count": 18,
   "metadata": {},
   "outputs": [
    {
     "data": {
      "text/plain": [
       "0        1\n",
       "1        1\n",
       "2        1\n",
       "3        1\n",
       "4        1\n",
       "5        1\n",
       "6        1\n",
       "7        1\n",
       "8        1\n",
       "9        1\n",
       "10       1\n",
       "11       1\n",
       "12       1\n",
       "13       1\n",
       "14       1\n",
       "15       1\n",
       "16       1\n",
       "17       1\n",
       "18       1\n",
       "19       1\n",
       "20       1\n",
       "21       1\n",
       "22       1\n",
       "23       1\n",
       "24       1\n",
       "25       1\n",
       "26       1\n",
       "27       1\n",
       "28       1\n",
       "29       1\n",
       "        ..\n",
       "34931    1\n",
       "34932    0\n",
       "34933    0\n",
       "34934    0\n",
       "34935    0\n",
       "34936    0\n",
       "34937    0\n",
       "34938    1\n",
       "34939    0\n",
       "34940    0\n",
       "34941    0\n",
       "34942    0\n",
       "34943    0\n",
       "34944    1\n",
       "34945    0\n",
       "34946    0\n",
       "34947    1\n",
       "34948    0\n",
       "34949    1\n",
       "34950    1\n",
       "34951    1\n",
       "34952    1\n",
       "34953    1\n",
       "34954    1\n",
       "34955    1\n",
       "34956    1\n",
       "34957    1\n",
       "34958    1\n",
       "34959    1\n",
       "34960    0\n",
       "Name: Loan Status, Length: 34961, dtype: int64"
      ]
     },
     "execution_count": 18,
     "metadata": {},
     "output_type": "execute_result"
    }
   ],
   "source": [
    "Y"
   ]
  },
  {
   "cell_type": "code",
   "execution_count": 19,
   "metadata": {},
   "outputs": [
    {
     "data": {
      "text/plain": [
       "Index(['Current Loan Amount', 'Term', 'Credit Score', 'Annual Income',\n",
       "       'Home Ownership', 'Purpose', 'Monthly Debt', 'Years of Credit History',\n",
       "       'Months since last delinquent', 'Number of Open Accounts',\n",
       "       'Number of Credit Problems', 'Current Credit Balance',\n",
       "       'Maximum Open Credit', 'Bankruptcies', 'Tax Liens'],\n",
       "      dtype='object')"
      ]
     },
     "execution_count": 19,
     "metadata": {},
     "output_type": "execute_result"
    }
   ],
   "source": [
    "nam = X.columns\n",
    "nam"
   ]
  },
  {
   "cell_type": "code",
   "execution_count": 20,
   "metadata": {},
   "outputs": [
    {
     "data": {
      "text/plain": [
       "pandas.core.series.Series"
      ]
     },
     "execution_count": 20,
     "metadata": {},
     "output_type": "execute_result"
    }
   ],
   "source": [
    "type(Y)"
   ]
  },
  {
   "cell_type": "code",
   "execution_count": 21,
   "metadata": {},
   "outputs": [],
   "source": [
    "X_train, X_test, Y_train, Y_test = train_test_split(X, Y, test_size=0.3,random_state=100)"
   ]
  },
  {
   "cell_type": "code",
   "execution_count": 22,
   "metadata": {},
   "outputs": [
    {
     "name": "stderr",
     "output_type": "stream",
     "text": [
      "C:\\Users\\Tony Stark\\Anaconda3\\lib\\site-packages\\sklearn\\preprocessing\\data.py:323: DataConversionWarning: Data with input dtype int64, float64 were all converted to float64 by MinMaxScaler.\n",
      "  return self.partial_fit(X, y)\n",
      "C:\\Users\\Tony Stark\\Anaconda3\\lib\\site-packages\\sklearn\\preprocessing\\data.py:323: DataConversionWarning: Data with input dtype int64, float64 were all converted to float64 by MinMaxScaler.\n",
      "  return self.partial_fit(X, y)\n"
     ]
    }
   ],
   "source": [
    "from sklearn.preprocessing import MinMaxScaler\n",
    "\n",
    "scaler = MinMaxScaler() \n",
    "X_train = scaler.fit_transform(X_train)\n",
    "X_test = scaler.fit_transform(X_test)"
   ]
  },
  {
   "cell_type": "markdown",
   "metadata": {},
   "source": [
    "# Decision Tree Classifier with criterea gini index"
   ]
  },
  {
   "cell_type": "code",
   "execution_count": 23,
   "metadata": {},
   "outputs": [
    {
     "data": {
      "text/plain": [
       "DecisionTreeClassifier(class_weight=None, criterion='gini', max_depth=1,\n",
       "            max_features=None, max_leaf_nodes=None,\n",
       "            min_impurity_decrease=0.0, min_impurity_split=None,\n",
       "            min_samples_leaf=200, min_samples_split=2,\n",
       "            min_weight_fraction_leaf=0.0, presort=False, random_state=0,\n",
       "            splitter='best')"
      ]
     },
     "execution_count": 23,
     "metadata": {},
     "output_type": "execute_result"
    }
   ],
   "source": [
    "model_gini = DecisionTreeClassifier(criterion = \"gini\", random_state = 0,\n",
    "                               max_depth=1, min_samples_leaf=200)\n",
    "model_gini.fit(X_train, Y_train)"
   ]
  },
  {
   "cell_type": "code",
   "execution_count": 24,
   "metadata": {},
   "outputs": [],
   "source": [
    "Y_predicted_gini=model_gini.predict(X_test)"
   ]
  },
  {
   "cell_type": "code",
   "execution_count": 26,
   "metadata": {},
   "outputs": [
    {
     "name": "stdout",
     "output_type": "stream",
     "text": [
      "Confusion Matrix: \n",
      " [[6697   14]\n",
      " [2642 1136]]\n"
     ]
    }
   ],
   "source": [
    "print(\"Confusion Matrix: \\n\",confusion_matrix(Y_test, Y_predicted_gini)) "
   ]
  },
  {
   "cell_type": "code",
   "execution_count": 27,
   "metadata": {},
   "outputs": [
    {
     "name": "stdout",
     "output_type": "stream",
     "text": [
      "Accuracy :  74.67823434073792\n"
     ]
    }
   ],
   "source": [
    "print (\"Accuracy : \",accuracy_score(Y_test, Y_predicted_gini)*100)"
   ]
  },
  {
   "cell_type": "code",
   "execution_count": 28,
   "metadata": {},
   "outputs": [
    {
     "name": "stdout",
     "output_type": "stream",
     "text": [
      "Report :                precision    recall  f1-score   support\n",
      "\n",
      "           0       0.72      1.00      0.83      6711\n",
      "           1       0.99      0.30      0.46      3778\n",
      "\n",
      "   micro avg       0.75      0.75      0.75     10489\n",
      "   macro avg       0.85      0.65      0.65     10489\n",
      "weighted avg       0.81      0.75      0.70     10489\n",
      "\n"
     ]
    }
   ],
   "source": [
    "print(\"Report : \", classification_report(Y_test, Y_predicted_gini)) "
   ]
  },
  {
   "cell_type": "code",
   "execution_count": 29,
   "metadata": {},
   "outputs": [
    {
     "data": {
      "text/plain": [
       "1150"
      ]
     },
     "execution_count": 29,
     "metadata": {},
     "output_type": "execute_result"
    }
   ],
   "source": [
    "a=list(Y_predicted_gini)\n",
    "sum(a)"
   ]
  },
  {
   "cell_type": "markdown",
   "metadata": {},
   "source": [
    "# Decision Tree Classifier with criterea Entropy"
   ]
  },
  {
   "cell_type": "code",
   "execution_count": 30,
   "metadata": {},
   "outputs": [
    {
     "data": {
      "text/plain": [
       "DecisionTreeClassifier(class_weight=None, criterion='entropy', max_depth=3,\n",
       "            max_features=None, max_leaf_nodes=None,\n",
       "            min_impurity_decrease=0.0, min_impurity_split=None,\n",
       "            min_samples_leaf=5, min_samples_split=2,\n",
       "            min_weight_fraction_leaf=0.0, presort=False, random_state=100,\n",
       "            splitter='best')"
      ]
     },
     "execution_count": 30,
     "metadata": {},
     "output_type": "execute_result"
    }
   ],
   "source": [
    "model_entropy = DecisionTreeClassifier(criterion = \"entropy\", random_state = 100, \n",
    "                            max_depth = 3, min_samples_leaf = 5) \n",
    "  \n",
    "model_entropy.fit(X_train, Y_train) "
   ]
  },
  {
   "cell_type": "code",
   "execution_count": 31,
   "metadata": {},
   "outputs": [],
   "source": [
    "Y_predicted_entropy = model_entropy.predict(X_test)"
   ]
  },
  {
   "cell_type": "code",
   "execution_count": 32,
   "metadata": {},
   "outputs": [
    {
     "name": "stdout",
     "output_type": "stream",
     "text": [
      "Confusion Matrix: \n",
      " [[6697   14]\n",
      " [2642 1136]]\n"
     ]
    }
   ],
   "source": [
    "print(\"Confusion Matrix: \\n\",confusion_matrix(Y_test, Y_predicted_gini,labels=[0,1])) "
   ]
  },
  {
   "cell_type": "code",
   "execution_count": 33,
   "metadata": {},
   "outputs": [
    {
     "name": "stdout",
     "output_type": "stream",
     "text": [
      "Accuracy :  74.67823434073792\n"
     ]
    }
   ],
   "source": [
    "print (\"Accuracy : \",accuracy_score(Y_test, Y_predicted_gini)*100)"
   ]
  },
  {
   "cell_type": "code",
   "execution_count": 34,
   "metadata": {},
   "outputs": [
    {
     "name": "stdout",
     "output_type": "stream",
     "text": [
      "Report :                precision    recall  f1-score   support\n",
      "\n",
      "           0       0.72      1.00      0.83      6711\n",
      "           1       0.99      0.30      0.46      3778\n",
      "\n",
      "   micro avg       0.75      0.75      0.75     10489\n",
      "   macro avg       0.85      0.65      0.65     10489\n",
      "weighted avg       0.81      0.75      0.70     10489\n",
      "\n"
     ]
    }
   ],
   "source": [
    "print(\"Report : \", classification_report(Y_test, Y_predicted_gini)) "
   ]
  },
  {
   "cell_type": "code",
   "execution_count": null,
   "metadata": {},
   "outputs": [],
   "source": []
  }
 ],
 "metadata": {
  "kernelspec": {
   "display_name": "Python 3",
   "language": "python",
   "name": "python3"
  },
  "language_info": {
   "codemirror_mode": {
    "name": "ipython",
    "version": 3
   },
   "file_extension": ".py",
   "mimetype": "text/x-python",
   "name": "python",
   "nbconvert_exporter": "python",
   "pygments_lexer": "ipython3",
   "version": "3.7.1"
  }
 },
 "nbformat": 4,
 "nbformat_minor": 2
}
